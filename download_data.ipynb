{
 "cells": [
  {
   "cell_type": "code",
   "execution_count": 2,
   "metadata": {},
   "outputs": [
    {
     "name": "stdout",
     "output_type": "stream",
     "text": [
      "Saved data/train/depth.csv\n",
      "Saved data/train/height.csv\n",
      "Saved data/train/item_volume.csv\n",
      "Saved data/train/item_weight.csv\n",
      "Saved data/train/maximum_weight_recommendation.csv\n",
      "Saved data/train/voltage.csv\n",
      "Saved data/train/wattage.csv\n",
      "Saved data/train/width.csv\n"
     ]
    }
   ],
   "source": [
    "import pandas as pd\n",
    "\n",
    "# Load the CSV file\n",
    "df = pd.read_csv('./data/train.csv')\n",
    "\n",
    "# Group the data by 'entity_name'\n",
    "grouped = df.groupby('entity_name')\n",
    "\n",
    "# Save each group into separate CSV files\n",
    "for entity_name, group_df in grouped:\n",
    "    # Define the output file name for each group\n",
    "    output_filename = f'data/train/{entity_name}.csv'\n",
    "    \n",
    "    # Save the current group to a CSV file\n",
    "    group_df.to_csv(output_filename, index=False)\n",
    "\n",
    "    print(f'Saved {output_filename}')\n"
   ]
  }
 ],
 "metadata": {
  "kernelspec": {
   "display_name": "base",
   "language": "python",
   "name": "python3"
  },
  "language_info": {
   "codemirror_mode": {
    "name": "ipython",
    "version": 3
   },
   "file_extension": ".py",
   "mimetype": "text/x-python",
   "name": "python",
   "nbconvert_exporter": "python",
   "pygments_lexer": "ipython3",
   "version": "3.12.2"
  }
 },
 "nbformat": 4,
 "nbformat_minor": 2
}
